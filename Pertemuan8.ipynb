{
 "cells": [
  {
   "cell_type": "code",
   "execution_count": 12,
   "metadata": {},
   "outputs": [
    {
     "name": "stdout",
     "output_type": "stream",
     "text": [
      "Data awal:\n",
      "  nama_kabupaten_kota  jumlah_produksi_sampah  tahun\n",
      "0   Kabupaten Bandung                     120   2023\n",
      "1        Kota Bandung                     250   2023\n",
      "2     Kabupaten Bogor                     130   2023\n",
      "3          Kota Bogor                      90   2023\n"
     ]
    }
   ],
   "source": [
    "# 1\n",
    "import pandas as pd\n",
    "\n",
    "# jumlah produksi sampah (dalam ton), dan tahun pencatatan\n",
    "data = {\n",
    "    \"nama_kabupaten_kota\": [\n",
    "        \"Kabupaten Bandung\", \"Kota Bandung\", \n",
    "        \"Kabupaten Bogor\", \"Kota Bogor\"\n",
    "    ],\n",
    "    \"jumlah_produksi_sampah\": [120, 250, 130, 90],\n",
    "    \"tahun\": [2023, 2023, 2023, 2023]\n",
    "}\n",
    "\n",
    "# Membuat DataFrame\n",
    "df = pd.DataFrame(data)\n",
    "\n",
    "print(\"Data awal:\")\n",
    "print(df)\n"
   ]
  },
  {
   "cell_type": "code",
   "execution_count": 13,
   "metadata": {},
   "outputs": [
    {
     "name": "stdout",
     "output_type": "stream",
     "text": [
      "Total produksi sampah untuk tahun 2023: 590 ton\n"
     ]
    }
   ],
   "source": [
    "# 2\n",
    "tahun_tertentu = 2023\n",
    "\n",
    "total_sampah = 0\n",
    "for index, row in df.iterrows():\n",
    "    if row[\"tahun\"] == tahun_tertentu:\n",
    "        total_sampah += row[\"jumlah_produksi_sampah\"]\n",
    "\n",
    "print(f\"Total produksi sampah untuk tahun {tahun_tertentu}: {total_sampah} ton\")\n"
   ]
  },
  {
   "cell_type": "code",
   "execution_count": 14,
   "metadata": {},
   "outputs": [
    {
     "name": "stdout",
     "output_type": "stream",
     "text": [
      "Total produksi sampah per tahun:\n",
      "2023: 590 ton\n"
     ]
    }
   ],
   "source": [
    "# 3\n",
    "total_per_tahun = {}\n",
    "for index, row in df.iterrows():\n",
    "    tahun = row[\"tahun\"]\n",
    "    if tahun not in total_per_tahun:\n",
    "        total_per_tahun[tahun] = 0\n",
    "    total_per_tahun[tahun] += row[\"jumlah_produksi_sampah\"]\n",
    "\n",
    "print(\"Total produksi sampah per tahun:\")\n",
    "for tahun, total in total_per_tahun.items():\n",
    "    print(f\"{tahun}: {total} ton\")\n"
   ]
  },
  {
   "cell_type": "code",
   "execution_count": null,
   "metadata": {},
   "outputs": [],
   "source": [
    "# 4\n",
    "total_per_kabupaten_kota = {}\n",
    "\n",
    "for index, row in df.iterrows():\n",
    "    kabupaten = row[\"nama_kabupaten_kota\"]\n",
    "    tahun = row[\"tahun\"]\n",
    "    key = (kabupaten, tahun)\n",
    "    if key not in total_per_kabupaten_kota:\n",
    "        total_per_kabupaten_kota[key] = 0\n",
    "    total_per_kabupaten_kota[key] += row[\"jumlah_produksi_sampah\"]\n",
    "\n",
    "print(\"Total produksi sampah per Kabupaten/Kota per tahun:\")\n",
    "for key, total in total_per_kabupaten_kota.items():\n",
    "    kabupaten, tahun = key\n",
    "    print(f\"{kabupaten} ({tahun}): {total} ton\")\n"
   ]
  },
  {
   "cell_type": "code",
   "execution_count": 11,
   "metadata": {},
   "outputs": [],
   "source": [
    "# 5\n",
    "result = []\n",
    "for key, total in total_per_kabupaten_kota.items():\n",
    "    kabupaten, tahun = key\n",
    "    result.append({\"nama_kabupaten_kota\": kabupaten, \"tahun\": tahun, \"total_produksi_sampah\": total})\n",
    "\n",
    "result_df = pd.DataFrame(result)\n",
    "\n",
    "# Ekspor ke CSV\n",
    "result_df.to_csv(\"produksi_sampah_jabar.csv\", index=False)\n",
    "\n",
    "# Ekspor ke Excel\n",
    "result_df.to_excel(\"produksi_sampah_jabar.xlsx\", index=False)\n"
   ]
  }
 ],
 "metadata": {
  "kernelspec": {
   "display_name": "Python 3",
   "language": "python",
   "name": "python3"
  },
  "language_info": {
   "codemirror_mode": {
    "name": "ipython",
    "version": 3
   },
   "file_extension": ".py",
   "mimetype": "text/x-python",
   "name": "python",
   "nbconvert_exporter": "python",
   "pygments_lexer": "ipython3",
   "version": "3.12.6"
  }
 },
 "nbformat": 4,
 "nbformat_minor": 2
}
